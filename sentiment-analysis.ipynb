{
 "cells": [
  {
   "cell_type": "code",
   "id": "initial_id",
   "metadata": {
    "collapsed": true,
    "ExecuteTime": {
     "end_time": "2025-05-27T08:17:59.102183Z",
     "start_time": "2025-05-27T08:17:58.991378Z"
    }
   },
   "source": [
    "import pandas as pd\n",
    "\n",
    "books = pd.read_csv('books_with_categories.csv')"
   ],
   "outputs": [],
   "execution_count": 4
  },
  {
   "metadata": {
    "ExecuteTime": {
     "end_time": "2025-05-27T08:18:32.372274Z",
     "start_time": "2025-05-27T08:18:20.278536Z"
    }
   },
   "cell_type": "code",
   "source": [
    "from transformers import pipeline\n",
    "classifier = pipeline(\"text-classification\", model=\"j-hartmann/emotion-english-distilroberta-base\", top_k=None)\n",
    "classifier(\"I love this!\")"
   ],
   "id": "a50a866293224738",
   "outputs": [
    {
     "name": "stderr",
     "output_type": "stream",
     "text": [
      "Device set to use cuda:0\n"
     ]
    },
    {
     "data": {
      "text/plain": [
       "[[{'label': 'joy', 'score': 0.9771687984466553},\n",
       "  {'label': 'surprise', 'score': 0.008528667502105236},\n",
       "  {'label': 'neutral', 'score': 0.005764591973274946},\n",
       "  {'label': 'anger', 'score': 0.004419775679707527},\n",
       "  {'label': 'sadness', 'score': 0.002092392183840275},\n",
       "  {'label': 'disgust', 'score': 0.0016119909705594182},\n",
       "  {'label': 'fear', 'score': 0.00041385178337804973}]]"
      ]
     },
     "execution_count": 5,
     "metadata": {},
     "output_type": "execute_result"
    }
   ],
   "execution_count": 5
  },
  {
   "metadata": {
    "ExecuteTime": {
     "end_time": "2025-05-27T08:18:36.567626Z",
     "start_time": "2025-05-27T08:18:36.554276Z"
    }
   },
   "cell_type": "code",
   "source": "books[\"description\"][0]",
   "id": "e32bb1c4dfe03dd5",
   "outputs": [
    {
     "data": {
      "text/plain": [
       "'A NOVEL THAT READERS and critics have been eagerly anticipating for over a decade, Gilead is an astonishingly imagined story of remarkable lives. John Ames is a preacher, the son of a preacher and the grandson (both maternal and paternal) of preachers. It’s 1956 in Gilead, Iowa, towards the end of the Reverend Ames’s life, and he is absorbed in recording his family’s story, a legacy for the young son he will never see grow up. Haunted by his grandfather’s presence, John tells of the rift between his grandfather and his father: the elder, an angry visionary who fought for the abolitionist cause, and his son, an ardent pacifist. He is troubled, too, by his prodigal namesake, Jack (John Ames) Boughton, his best friend’s lost son who returns to Gilead searching for forgiveness and redemption. Told in John Ames’s joyous, rambling voice that finds beauty, humour and truth in the smallest of life’s details, Gilead is a song of celebration and acceptance of the best and the worst the world has to offer. At its heart is a tale of the sacred bonds between fathers and sons, pitch-perfect in style and story, set to dazzle critics and readers alike.'"
      ]
     },
     "execution_count": 6,
     "metadata": {},
     "output_type": "execute_result"
    }
   ],
   "execution_count": 6
  },
  {
   "metadata": {
    "ExecuteTime": {
     "end_time": "2025-05-27T08:18:39.673717Z",
     "start_time": "2025-05-27T08:18:39.623051Z"
    }
   },
   "cell_type": "code",
   "source": "classifier(books[\"description\"][0])",
   "id": "7b15f4dc9e58e5e9",
   "outputs": [
    {
     "data": {
      "text/plain": [
       "[[{'label': 'fear', 'score': 0.654841423034668},\n",
       "  {'label': 'neutral', 'score': 0.16985200345516205},\n",
       "  {'label': 'sadness', 'score': 0.11640873551368713},\n",
       "  {'label': 'surprise', 'score': 0.02070068195462227},\n",
       "  {'label': 'disgust', 'score': 0.01910071074962616},\n",
       "  {'label': 'joy', 'score': 0.015161264687776566},\n",
       "  {'label': 'anger', 'score': 0.003935149405151606}]]"
      ]
     },
     "execution_count": 7,
     "metadata": {},
     "output_type": "execute_result"
    }
   ],
   "execution_count": 7
  },
  {
   "metadata": {
    "ExecuteTime": {
     "end_time": "2025-05-27T08:18:43.007115Z",
     "start_time": "2025-05-27T08:18:42.546991Z"
    }
   },
   "cell_type": "code",
   "source": "classifier(books[\"description\"][0].split(\".\"))",
   "id": "df8ef39af7bd66ea",
   "outputs": [
    {
     "data": {
      "text/plain": [
       "[[{'label': 'surprise', 'score': 0.729603111743927},\n",
       "  {'label': 'neutral', 'score': 0.1403854489326477},\n",
       "  {'label': 'fear', 'score': 0.06816213577985764},\n",
       "  {'label': 'joy', 'score': 0.04794233292341232},\n",
       "  {'label': 'anger', 'score': 0.009156344458460808},\n",
       "  {'label': 'disgust', 'score': 0.002628471702337265},\n",
       "  {'label': 'sadness', 'score': 0.0021221584174782038}],\n",
       " [{'label': 'neutral', 'score': 0.44937026500701904},\n",
       "  {'label': 'disgust', 'score': 0.2735919654369354},\n",
       "  {'label': 'joy', 'score': 0.10908275842666626},\n",
       "  {'label': 'sadness', 'score': 0.09362739324569702},\n",
       "  {'label': 'anger', 'score': 0.040478356182575226},\n",
       "  {'label': 'surprise', 'score': 0.02697017416357994},\n",
       "  {'label': 'fear', 'score': 0.006879063788801432}],\n",
       " [{'label': 'neutral', 'score': 0.6462165117263794},\n",
       "  {'label': 'sadness', 'score': 0.24273273348808289},\n",
       "  {'label': 'disgust', 'score': 0.04342266917228699},\n",
       "  {'label': 'surprise', 'score': 0.02830057218670845},\n",
       "  {'label': 'joy', 'score': 0.014211483299732208},\n",
       "  {'label': 'fear', 'score': 0.014084122143685818},\n",
       "  {'label': 'anger', 'score': 0.011031905189156532}],\n",
       " [{'label': 'fear', 'score': 0.9281681180000305},\n",
       "  {'label': 'anger', 'score': 0.032190952450037},\n",
       "  {'label': 'neutral', 'score': 0.01280870009213686},\n",
       "  {'label': 'sadness', 'score': 0.008756873197853565},\n",
       "  {'label': 'surprise', 'score': 0.008597931824624538},\n",
       "  {'label': 'disgust', 'score': 0.008431834168732166},\n",
       "  {'label': 'joy', 'score': 0.0010455826995894313}],\n",
       " [{'label': 'sadness', 'score': 0.9671574234962463},\n",
       "  {'label': 'neutral', 'score': 0.015104176476597786},\n",
       "  {'label': 'disgust', 'score': 0.006480601150542498},\n",
       "  {'label': 'fear', 'score': 0.005394001957029104},\n",
       "  {'label': 'surprise', 'score': 0.0022869459353387356},\n",
       "  {'label': 'anger', 'score': 0.0018428919138386846},\n",
       "  {'label': 'joy', 'score': 0.001733881188556552}],\n",
       " [{'label': 'joy', 'score': 0.9327967762947083},\n",
       "  {'label': 'disgust', 'score': 0.03771806135773659},\n",
       "  {'label': 'neutral', 'score': 0.015891993418335915},\n",
       "  {'label': 'sadness', 'score': 0.00644456734880805},\n",
       "  {'label': 'anger', 'score': 0.0050250450149178505},\n",
       "  {'label': 'surprise', 'score': 0.0015812102938070893},\n",
       "  {'label': 'fear', 'score': 0.0005423118709586561}],\n",
       " [{'label': 'joy', 'score': 0.6528710126876831},\n",
       "  {'label': 'neutral', 'score': 0.2542743384838104},\n",
       "  {'label': 'surprise', 'score': 0.06808304786682129},\n",
       "  {'label': 'sadness', 'score': 0.00990898534655571},\n",
       "  {'label': 'disgust', 'score': 0.006512206979095936},\n",
       "  {'label': 'anger', 'score': 0.004821315407752991},\n",
       "  {'label': 'fear', 'score': 0.003529016859829426}],\n",
       " [{'label': 'neutral', 'score': 0.5494768619537354},\n",
       "  {'label': 'sadness', 'score': 0.11169016361236572},\n",
       "  {'label': 'disgust', 'score': 0.10400664806365967},\n",
       "  {'label': 'surprise', 'score': 0.07876549661159515},\n",
       "  {'label': 'anger', 'score': 0.06413362920284271},\n",
       "  {'label': 'fear', 'score': 0.051362793892621994},\n",
       "  {'label': 'joy', 'score': 0.0405643954873085}]]"
      ]
     },
     "execution_count": 8,
     "metadata": {},
     "output_type": "execute_result"
    }
   ],
   "execution_count": 8
  },
  {
   "metadata": {
    "ExecuteTime": {
     "end_time": "2025-05-27T08:18:46.099390Z",
     "start_time": "2025-05-27T08:18:45.803307Z"
    }
   },
   "cell_type": "code",
   "source": [
    "sentences = books[\"description\"][0].split(\".\")\n",
    "predictions = classifier(sentences)"
   ],
   "id": "67646c66292d23a6",
   "outputs": [],
   "execution_count": 9
  },
  {
   "metadata": {
    "ExecuteTime": {
     "end_time": "2025-05-27T08:18:47.950567Z",
     "start_time": "2025-05-27T08:18:47.936735Z"
    }
   },
   "cell_type": "code",
   "source": "sentences[0]",
   "id": "b78e29411add7ff8",
   "outputs": [
    {
     "data": {
      "text/plain": [
       "'A NOVEL THAT READERS and critics have been eagerly anticipating for over a decade, Gilead is an astonishingly imagined story of remarkable lives'"
      ]
     },
     "execution_count": 10,
     "metadata": {},
     "output_type": "execute_result"
    }
   ],
   "execution_count": 10
  },
  {
   "metadata": {
    "ExecuteTime": {
     "end_time": "2025-05-27T08:18:51.229062Z",
     "start_time": "2025-05-27T08:18:51.215073Z"
    }
   },
   "cell_type": "code",
   "source": "predictions[0]",
   "id": "d39e2da60a9933b3",
   "outputs": [
    {
     "data": {
      "text/plain": [
       "[{'label': 'surprise', 'score': 0.729603111743927},\n",
       " {'label': 'neutral', 'score': 0.1403854489326477},\n",
       " {'label': 'fear', 'score': 0.06816213577985764},\n",
       " {'label': 'joy', 'score': 0.04794233292341232},\n",
       " {'label': 'anger', 'score': 0.009156344458460808},\n",
       " {'label': 'disgust', 'score': 0.002628471702337265},\n",
       " {'label': 'sadness', 'score': 0.0021221584174782038}]"
      ]
     },
     "execution_count": 11,
     "metadata": {},
     "output_type": "execute_result"
    }
   ],
   "execution_count": 11
  },
  {
   "metadata": {
    "ExecuteTime": {
     "end_time": "2025-05-27T08:18:53.775249Z",
     "start_time": "2025-05-27T08:18:53.765008Z"
    }
   },
   "cell_type": "code",
   "source": "sentences[3]",
   "id": "71605c0e4584f592",
   "outputs": [
    {
     "data": {
      "text/plain": [
       "' Haunted by his grandfather’s presence, John tells of the rift between his grandfather and his father: the elder, an angry visionary who fought for the abolitionist cause, and his son, an ardent pacifist'"
      ]
     },
     "execution_count": 12,
     "metadata": {},
     "output_type": "execute_result"
    }
   ],
   "execution_count": 12
  },
  {
   "metadata": {
    "ExecuteTime": {
     "end_time": "2025-05-27T08:18:56.314752Z",
     "start_time": "2025-05-27T08:18:56.300859Z"
    }
   },
   "cell_type": "code",
   "source": "predictions[3]",
   "id": "826ab24c263672dd",
   "outputs": [
    {
     "data": {
      "text/plain": [
       "[{'label': 'fear', 'score': 0.9281681180000305},\n",
       " {'label': 'anger', 'score': 0.032190952450037},\n",
       " {'label': 'neutral', 'score': 0.01280870009213686},\n",
       " {'label': 'sadness', 'score': 0.008756873197853565},\n",
       " {'label': 'surprise', 'score': 0.008597931824624538},\n",
       " {'label': 'disgust', 'score': 0.008431834168732166},\n",
       " {'label': 'joy', 'score': 0.0010455826995894313}]"
      ]
     },
     "execution_count": 13,
     "metadata": {},
     "output_type": "execute_result"
    }
   ],
   "execution_count": 13
  },
  {
   "metadata": {
    "ExecuteTime": {
     "end_time": "2025-05-27T08:18:58.810155Z",
     "start_time": "2025-05-27T08:18:58.780112Z"
    }
   },
   "cell_type": "code",
   "source": "predictions",
   "id": "dd0864909e400a83",
   "outputs": [
    {
     "data": {
      "text/plain": [
       "[[{'label': 'surprise', 'score': 0.729603111743927},\n",
       "  {'label': 'neutral', 'score': 0.1403854489326477},\n",
       "  {'label': 'fear', 'score': 0.06816213577985764},\n",
       "  {'label': 'joy', 'score': 0.04794233292341232},\n",
       "  {'label': 'anger', 'score': 0.009156344458460808},\n",
       "  {'label': 'disgust', 'score': 0.002628471702337265},\n",
       "  {'label': 'sadness', 'score': 0.0021221584174782038}],\n",
       " [{'label': 'neutral', 'score': 0.44937026500701904},\n",
       "  {'label': 'disgust', 'score': 0.2735919654369354},\n",
       "  {'label': 'joy', 'score': 0.10908275842666626},\n",
       "  {'label': 'sadness', 'score': 0.09362739324569702},\n",
       "  {'label': 'anger', 'score': 0.040478356182575226},\n",
       "  {'label': 'surprise', 'score': 0.02697017416357994},\n",
       "  {'label': 'fear', 'score': 0.006879063788801432}],\n",
       " [{'label': 'neutral', 'score': 0.6462165117263794},\n",
       "  {'label': 'sadness', 'score': 0.24273273348808289},\n",
       "  {'label': 'disgust', 'score': 0.04342266917228699},\n",
       "  {'label': 'surprise', 'score': 0.02830057218670845},\n",
       "  {'label': 'joy', 'score': 0.014211483299732208},\n",
       "  {'label': 'fear', 'score': 0.014084122143685818},\n",
       "  {'label': 'anger', 'score': 0.011031905189156532}],\n",
       " [{'label': 'fear', 'score': 0.9281681180000305},\n",
       "  {'label': 'anger', 'score': 0.032190952450037},\n",
       "  {'label': 'neutral', 'score': 0.01280870009213686},\n",
       "  {'label': 'sadness', 'score': 0.008756873197853565},\n",
       "  {'label': 'surprise', 'score': 0.008597931824624538},\n",
       "  {'label': 'disgust', 'score': 0.008431834168732166},\n",
       "  {'label': 'joy', 'score': 0.0010455826995894313}],\n",
       " [{'label': 'sadness', 'score': 0.9671574234962463},\n",
       "  {'label': 'neutral', 'score': 0.015104176476597786},\n",
       "  {'label': 'disgust', 'score': 0.006480601150542498},\n",
       "  {'label': 'fear', 'score': 0.005394001957029104},\n",
       "  {'label': 'surprise', 'score': 0.0022869459353387356},\n",
       "  {'label': 'anger', 'score': 0.0018428919138386846},\n",
       "  {'label': 'joy', 'score': 0.001733881188556552}],\n",
       " [{'label': 'joy', 'score': 0.9327967762947083},\n",
       "  {'label': 'disgust', 'score': 0.03771806135773659},\n",
       "  {'label': 'neutral', 'score': 0.015891993418335915},\n",
       "  {'label': 'sadness', 'score': 0.00644456734880805},\n",
       "  {'label': 'anger', 'score': 0.0050250450149178505},\n",
       "  {'label': 'surprise', 'score': 0.0015812102938070893},\n",
       "  {'label': 'fear', 'score': 0.0005423118709586561}],\n",
       " [{'label': 'joy', 'score': 0.6528710126876831},\n",
       "  {'label': 'neutral', 'score': 0.2542743384838104},\n",
       "  {'label': 'surprise', 'score': 0.06808304786682129},\n",
       "  {'label': 'sadness', 'score': 0.00990898534655571},\n",
       "  {'label': 'disgust', 'score': 0.006512206979095936},\n",
       "  {'label': 'anger', 'score': 0.004821315407752991},\n",
       "  {'label': 'fear', 'score': 0.003529016859829426}],\n",
       " [{'label': 'neutral', 'score': 0.5494768619537354},\n",
       "  {'label': 'sadness', 'score': 0.11169016361236572},\n",
       "  {'label': 'disgust', 'score': 0.10400664806365967},\n",
       "  {'label': 'surprise', 'score': 0.07876549661159515},\n",
       "  {'label': 'anger', 'score': 0.06413362920284271},\n",
       "  {'label': 'fear', 'score': 0.051362793892621994},\n",
       "  {'label': 'joy', 'score': 0.0405643954873085}]]"
      ]
     },
     "execution_count": 14,
     "metadata": {},
     "output_type": "execute_result"
    }
   ],
   "execution_count": 14
  },
  {
   "metadata": {
    "ExecuteTime": {
     "end_time": "2025-05-27T08:19:01.517859Z",
     "start_time": "2025-05-27T08:19:01.502704Z"
    }
   },
   "cell_type": "code",
   "source": "sorted(predictions[0],key=lambda x:x[\"label\"])",
   "id": "f0475398d8618d67",
   "outputs": [
    {
     "data": {
      "text/plain": [
       "[{'label': 'anger', 'score': 0.009156344458460808},\n",
       " {'label': 'disgust', 'score': 0.002628471702337265},\n",
       " {'label': 'fear', 'score': 0.06816213577985764},\n",
       " {'label': 'joy', 'score': 0.04794233292341232},\n",
       " {'label': 'neutral', 'score': 0.1403854489326477},\n",
       " {'label': 'sadness', 'score': 0.0021221584174782038},\n",
       " {'label': 'surprise', 'score': 0.729603111743927}]"
      ]
     },
     "execution_count": 15,
     "metadata": {},
     "output_type": "execute_result"
    }
   ],
   "execution_count": 15
  },
  {
   "metadata": {
    "ExecuteTime": {
     "end_time": "2025-05-27T08:47:35.874102Z",
     "start_time": "2025-05-27T08:47:35.856366Z"
    }
   },
   "cell_type": "code",
   "source": [
    "import numpy as np\n",
    "\n",
    "emotion_labels =[\"anger\",\"disgust\",\"fear\",\"joy\",\"neutral\",\"sadness\",\"surprise\"]\n",
    "isbn=[]\n",
    "emotion_scores = {label : [] for label in emotion_labels}\n",
    "\n",
    "def calculate_max_emotion_score(predictions):\n",
    "    per_emotion_scores = {label:[] for label in emotion_labels}\n",
    "    for prediction in predictions:\n",
    "        sorted_predictions = sorted(prediction, key=lambda x:x[\"label\"])\n",
    "        for index, label in enumerate(emotion_labels):\n",
    "            per_emotion_scores[label].append(sorted_predictions[index][\"score\"])\n",
    "    return {label: float(np.max(scores)) if scores else 0.0 for label, scores in per_emotion_scores.items()}\n",
    "\n",
    "\n",
    "    ###return {label :np.max(scores) for label, scores in per_emotion_scores.items()}\n",
    "\n",
    "\n",
    "\n",
    "\n",
    "\n"
   ],
   "id": "dbf252f459bf640d",
   "outputs": [],
   "execution_count": 48
  },
  {
   "metadata": {
    "ExecuteTime": {
     "end_time": "2025-05-27T08:47:42.005740Z",
     "start_time": "2025-05-27T08:47:38.257344Z"
    }
   },
   "cell_type": "code",
   "source": [
    "for i in range(10):\n",
    "    isbn.append(books[\"isbn13\"][i])\n",
    "    sentencs = books[\"description\"][i].split(\".\")\n",
    "    predictions = classifier(sentencs)\n",
    "    max_score = calculate_max_emotion_score(predictions)\n",
    "    for label in emotion_labels:\n",
    "            emotion_scores[label].append(max_score[label])\n",
    "\n",
    "\n",
    "    isbn.append(books[\"isbn13\"][i])\n",
    "    sentences = books[\"description\"][i].split(\".\")\n",
    "    predictions = classifier(sentences)\n",
    "    max_score = calculate_max_emotion_score(predictions)\n",
    "    for label in emtion_labels:\n",
    "        emotion_scores[label].append(max_score[label])"
   ],
   "id": "7ac9c86a8f729f77",
   "outputs": [],
   "execution_count": 49
  },
  {
   "metadata": {
    "ExecuteTime": {
     "end_time": "2025-05-27T08:47:43.639418Z",
     "start_time": "2025-05-27T08:47:43.615586Z"
    }
   },
   "cell_type": "code",
   "source": "emotion_scores\n",
   "id": "333bf5dce3fbc67b",
   "outputs": [
    {
     "data": {
      "text/plain": [
       "{'anger': [0.06413362920284271,\n",
       "  0.06413362920284271,\n",
       "  0.6126192808151245,\n",
       "  0.6126192808151245,\n",
       "  0.06413362920284271,\n",
       "  0.06413362920284271,\n",
       "  0.3514832854270935,\n",
       "  0.3514832854270935,\n",
       "  0.08141228556632996,\n",
       "  0.08141228556632996,\n",
       "  0.23222456872463226,\n",
       "  0.23222456872463226,\n",
       "  0.538183867931366,\n",
       "  0.538183867931366,\n",
       "  0.06413362920284271,\n",
       "  0.06413362920284271,\n",
       "  0.30066993832588196,\n",
       "  0.30066993832588196,\n",
       "  0.06413362920284271,\n",
       "  0.06413362920284271],\n",
       " 'disgust': [0.2735919654369354,\n",
       "  0.2735919654369354,\n",
       "  0.34828487038612366,\n",
       "  0.34828487038612366,\n",
       "  0.10400664806365967,\n",
       "  0.10400664806365967,\n",
       "  0.15072259306907654,\n",
       "  0.15072259306907654,\n",
       "  0.1844952255487442,\n",
       "  0.1844952255487442,\n",
       "  0.7271750569343567,\n",
       "  0.7271750569343567,\n",
       "  0.15585491061210632,\n",
       "  0.15585491061210632,\n",
       "  0.10400664806365967,\n",
       "  0.10400664806365967,\n",
       "  0.2794812023639679,\n",
       "  0.2794812023639679,\n",
       "  0.17792680859565735,\n",
       "  0.17792680859565735],\n",
       " 'fear': [0.9281681180000305,\n",
       "  0.9281681180000305,\n",
       "  0.9425276517868042,\n",
       "  0.9425276517868042,\n",
       "  0.9723208546638489,\n",
       "  0.9723208546638489,\n",
       "  0.3607068955898285,\n",
       "  0.3607068955898285,\n",
       "  0.09504345059394836,\n",
       "  0.09504345059394836,\n",
       "  0.051362793892621994,\n",
       "  0.051362793892621994,\n",
       "  0.7474285960197449,\n",
       "  0.7474285960197449,\n",
       "  0.404495507478714,\n",
       "  0.404495507478714,\n",
       "  0.9155241250991821,\n",
       "  0.9155241250991821,\n",
       "  0.051362793892621994,\n",
       "  0.051362793892621994],\n",
       " 'joy': [0.9327967762947083,\n",
       "  0.9327967762947083,\n",
       "  0.7044207453727722,\n",
       "  0.7044207453727722,\n",
       "  0.7672362923622131,\n",
       "  0.7672362923622131,\n",
       "  0.2518809139728546,\n",
       "  0.2518809139728546,\n",
       "  0.0405643954873085,\n",
       "  0.0405643954873085,\n",
       "  0.043375905603170395,\n",
       "  0.043375905603170395,\n",
       "  0.8725650906562805,\n",
       "  0.8725650906562805,\n",
       "  0.0405643954873085,\n",
       "  0.0405643954873085,\n",
       "  0.0405643954873085,\n",
       "  0.0405643954873085,\n",
       "  0.0405643954873085,\n",
       "  0.0405643954873085],\n",
       " 'neutral': [0.6462165117263794,\n",
       "  0.6462165117263794,\n",
       "  0.8879395127296448,\n",
       "  0.8879395127296448,\n",
       "  0.5494768619537354,\n",
       "  0.5494768619537354,\n",
       "  0.7326852083206177,\n",
       "  0.7326852083206177,\n",
       "  0.8843895196914673,\n",
       "  0.8843895196914673,\n",
       "  0.6213922500610352,\n",
       "  0.6213922500610352,\n",
       "  0.712194561958313,\n",
       "  0.712194561958313,\n",
       "  0.5494768619537354,\n",
       "  0.5494768619537354,\n",
       "  0.8402894735336304,\n",
       "  0.8402894735336304,\n",
       "  0.8603722453117371,\n",
       "  0.8603722453117371],\n",
       " 'sadness': [0.9671574234962463,\n",
       "  0.9671574234962463,\n",
       "  0.11169016361236572,\n",
       "  0.11169016361236572,\n",
       "  0.11169016361236572,\n",
       "  0.11169016361236572,\n",
       "  0.11169016361236572,\n",
       "  0.11169016361236572,\n",
       "  0.4758806526660919,\n",
       "  0.4758806526660919,\n",
       "  0.11169016361236572,\n",
       "  0.11169016361236572,\n",
       "  0.40800023078918457,\n",
       "  0.40800023078918457,\n",
       "  0.8202824592590332,\n",
       "  0.8202824592590332,\n",
       "  0.35445937514305115,\n",
       "  0.35445937514305115,\n",
       "  0.11169016361236572,\n",
       "  0.11169016361236572],\n",
       " 'surprise': [0.729603111743927,\n",
       "  0.729603111743927,\n",
       "  0.2525446116924286,\n",
       "  0.2525446116924286,\n",
       "  0.07876549661159515,\n",
       "  0.07876549661159515,\n",
       "  0.07876549661159515,\n",
       "  0.07876549661159515,\n",
       "  0.07876549661159515,\n",
       "  0.07876549661159515,\n",
       "  0.2719031870365143,\n",
       "  0.2719031870365143,\n",
       "  0.07876549661159515,\n",
       "  0.07876549661159515,\n",
       "  0.23448754847049713,\n",
       "  0.23448754847049713,\n",
       "  0.13561415672302246,\n",
       "  0.13561415672302246,\n",
       "  0.07876549661159515,\n",
       "  0.07876549661159515]}"
      ]
     },
     "execution_count": 50,
     "metadata": {},
     "output_type": "execute_result"
    }
   ],
   "execution_count": 50
  },
  {
   "metadata": {
    "ExecuteTime": {
     "end_time": "2025-05-27T10:07:50.713825Z",
     "start_time": "2025-05-27T09:57:16.258780Z"
    }
   },
   "cell_type": "code",
   "source": [
    "from tqdm import tqdm\n",
    "emotion_labels =[\"anger\",\"disgust\",\"fear\",\"joy\",\"neutral\",\"sadness\",\"surprise\"]\n",
    "isbn=[]\n",
    "emotion_scores = {label : [] for label in emotion_labels}\n",
    "\n",
    "for i in tqdm(range(len(books))):\n",
    "    isbn.append(books[\"isbn13\"][i])\n",
    "    sentences = books[\"description\"][i].split(\".\")\n",
    "    predictions = classifier(sentences)\n",
    "    max_score = calculate_max_emotion_score(predictions)\n",
    "    for label in emotion_labels:\n",
    "            emotion_scores[label].append(max_score[label])\n",
    "\n"
   ],
   "id": "f60fe6a6cd61b8c9",
   "outputs": [
    {
     "name": "stderr",
     "output_type": "stream",
     "text": [
      "100%|██████████| 5197/5197 [10:34<00:00,  8.19it/s]\n"
     ]
    }
   ],
   "execution_count": 51
  },
  {
   "metadata": {
    "ExecuteTime": {
     "end_time": "2025-05-27T10:12:25.916509Z",
     "start_time": "2025-05-27T10:12:25.889306Z"
    }
   },
   "cell_type": "code",
   "source": [
    "emotions_df = pd.DataFrame(emotion_scores)\n",
    "emotions_df[\"isbn13\"]=isbn"
   ],
   "id": "2dae68870f9a4cf6",
   "outputs": [],
   "execution_count": 55
  },
  {
   "metadata": {
    "ExecuteTime": {
     "end_time": "2025-05-27T10:12:29.146201Z",
     "start_time": "2025-05-27T10:12:29.117402Z"
    }
   },
   "cell_type": "code",
   "source": "emotions_df.head()",
   "id": "83568f05c9157abb",
   "outputs": [
    {
     "data": {
      "text/plain": [
       "      anger   disgust      fear       joy   neutral   sadness  surprise  \\\n",
       "0  0.064134  0.273592  0.928168  0.932797  0.646217  0.967157  0.729603   \n",
       "1  0.612619  0.348285  0.942528  0.704421  0.887940  0.111690  0.252545   \n",
       "2  0.064134  0.104007  0.972321  0.767236  0.549477  0.111690  0.078765   \n",
       "3  0.351483  0.150723  0.360707  0.251881  0.732685  0.111690  0.078765   \n",
       "4  0.081412  0.184495  0.095043  0.040564  0.884390  0.475881  0.078765   \n",
       "\n",
       "          isbn13  \n",
       "0  9780002005883  \n",
       "1  9780002261982  \n",
       "2  9780006178736  \n",
       "3  9780006280897  \n",
       "4  9780006280934  "
      ],
      "text/html": [
       "<div>\n",
       "<style scoped>\n",
       "    .dataframe tbody tr th:only-of-type {\n",
       "        vertical-align: middle;\n",
       "    }\n",
       "\n",
       "    .dataframe tbody tr th {\n",
       "        vertical-align: top;\n",
       "    }\n",
       "\n",
       "    .dataframe thead th {\n",
       "        text-align: right;\n",
       "    }\n",
       "</style>\n",
       "<table border=\"1\" class=\"dataframe\">\n",
       "  <thead>\n",
       "    <tr style=\"text-align: right;\">\n",
       "      <th></th>\n",
       "      <th>anger</th>\n",
       "      <th>disgust</th>\n",
       "      <th>fear</th>\n",
       "      <th>joy</th>\n",
       "      <th>neutral</th>\n",
       "      <th>sadness</th>\n",
       "      <th>surprise</th>\n",
       "      <th>isbn13</th>\n",
       "    </tr>\n",
       "  </thead>\n",
       "  <tbody>\n",
       "    <tr>\n",
       "      <th>0</th>\n",
       "      <td>0.064134</td>\n",
       "      <td>0.273592</td>\n",
       "      <td>0.928168</td>\n",
       "      <td>0.932797</td>\n",
       "      <td>0.646217</td>\n",
       "      <td>0.967157</td>\n",
       "      <td>0.729603</td>\n",
       "      <td>9780002005883</td>\n",
       "    </tr>\n",
       "    <tr>\n",
       "      <th>1</th>\n",
       "      <td>0.612619</td>\n",
       "      <td>0.348285</td>\n",
       "      <td>0.942528</td>\n",
       "      <td>0.704421</td>\n",
       "      <td>0.887940</td>\n",
       "      <td>0.111690</td>\n",
       "      <td>0.252545</td>\n",
       "      <td>9780002261982</td>\n",
       "    </tr>\n",
       "    <tr>\n",
       "      <th>2</th>\n",
       "      <td>0.064134</td>\n",
       "      <td>0.104007</td>\n",
       "      <td>0.972321</td>\n",
       "      <td>0.767236</td>\n",
       "      <td>0.549477</td>\n",
       "      <td>0.111690</td>\n",
       "      <td>0.078765</td>\n",
       "      <td>9780006178736</td>\n",
       "    </tr>\n",
       "    <tr>\n",
       "      <th>3</th>\n",
       "      <td>0.351483</td>\n",
       "      <td>0.150723</td>\n",
       "      <td>0.360707</td>\n",
       "      <td>0.251881</td>\n",
       "      <td>0.732685</td>\n",
       "      <td>0.111690</td>\n",
       "      <td>0.078765</td>\n",
       "      <td>9780006280897</td>\n",
       "    </tr>\n",
       "    <tr>\n",
       "      <th>4</th>\n",
       "      <td>0.081412</td>\n",
       "      <td>0.184495</td>\n",
       "      <td>0.095043</td>\n",
       "      <td>0.040564</td>\n",
       "      <td>0.884390</td>\n",
       "      <td>0.475881</td>\n",
       "      <td>0.078765</td>\n",
       "      <td>9780006280934</td>\n",
       "    </tr>\n",
       "  </tbody>\n",
       "</table>\n",
       "</div>"
      ]
     },
     "execution_count": 56,
     "metadata": {},
     "output_type": "execute_result"
    }
   ],
   "execution_count": 56
  },
  {
   "metadata": {
    "ExecuteTime": {
     "end_time": "2025-05-27T10:13:24.062994Z",
     "start_time": "2025-05-27T10:13:23.834879Z"
    }
   },
   "cell_type": "code",
   "source": "books = pd.merge(books, emotions_df, on=\"isbn13\")",
   "id": "574af21ea98123cd",
   "outputs": [],
   "execution_count": 57
  },
  {
   "metadata": {
    "ExecuteTime": {
     "end_time": "2025-05-27T10:13:36.110868Z",
     "start_time": "2025-05-27T10:13:36.039794Z"
    }
   },
   "cell_type": "code",
   "source": "books",
   "id": "583274f4b5ceb620",
   "outputs": [
    {
     "data": {
      "text/plain": [
       "             isbn13      isbn10  \\\n",
       "0     9780002005883  0002005883   \n",
       "1     9780002261982  0002261987   \n",
       "2     9780006178736  0006178731   \n",
       "3     9780006280897  0006280897   \n",
       "4     9780006280934  0006280935   \n",
       "...             ...         ...   \n",
       "5192  9788172235222  8172235224   \n",
       "5193  9788173031014  8173031010   \n",
       "5194  9788179921623  817992162X   \n",
       "5195  9788185300535  8185300534   \n",
       "5196  9789027712059  9027712050   \n",
       "\n",
       "                                                  title  \\\n",
       "0                                                Gilead   \n",
       "1                                          Spider's Web   \n",
       "2                                        Rage of angels   \n",
       "3                                        The Four Loves   \n",
       "4                                   The Problem of Pain   \n",
       "...                                                 ...   \n",
       "5192                                  Mistaken Identity   \n",
       "5193                                Journey to the East   \n",
       "5194  The Monk Who Sold His Ferrari: A Fable About F...   \n",
       "5195                                          I Am that   \n",
       "5196                           The Berlin Phenomenology   \n",
       "\n",
       "                                           authors  \\\n",
       "0                               Marilynne Robinson   \n",
       "1                  Charles Osborne;Agatha Christie   \n",
       "2                                   Sidney Sheldon   \n",
       "3                              Clive Staples Lewis   \n",
       "4                              Clive Staples Lewis   \n",
       "...                                            ...   \n",
       "5192                              Nayantara Sahgal   \n",
       "5193                                 Hermann Hesse   \n",
       "5194                                  Robin Sharma   \n",
       "5195  Sri Nisargadatta Maharaj;Sudhakar S. Dikshit   \n",
       "5196                 Georg Wilhelm Friedrich Hegel   \n",
       "\n",
       "                         categories  \\\n",
       "0                           Fiction   \n",
       "1     Detective and mystery stories   \n",
       "2                           Fiction   \n",
       "3                    Christian life   \n",
       "4                    Christian life   \n",
       "...                             ...   \n",
       "5192        Indic fiction (English)   \n",
       "5193              Adventure stories   \n",
       "5194               Health & Fitness   \n",
       "5195                     Philosophy   \n",
       "5196                        History   \n",
       "\n",
       "                                              thumbnail  \\\n",
       "0     http://books.google.com/books/content?id=KQZCP...   \n",
       "1     http://books.google.com/books/content?id=gA5GP...   \n",
       "2     http://books.google.com/books/content?id=FKo2T...   \n",
       "3     http://books.google.com/books/content?id=XhQ5X...   \n",
       "4     http://books.google.com/books/content?id=Kk-uV...   \n",
       "...                                                 ...   \n",
       "5192  http://books.google.com/books/content?id=q-tKP...   \n",
       "5193  http://books.google.com/books/content?id=rq6JP...   \n",
       "5194  http://books.google.com/books/content?id=c_7mf...   \n",
       "5195  http://books.google.com/books/content?id=Fv_JP...   \n",
       "5196  http://books.google.com/books/content?id=Vy7Sk...   \n",
       "\n",
       "                                            description  published_year  \\\n",
       "0     A NOVEL THAT READERS and critics have been eag...          2004.0   \n",
       "1     A new 'Christie for Christmas' -- a full-lengt...          2000.0   \n",
       "2     A memorable, mesmerizing heroine Jennifer -- b...          1993.0   \n",
       "3     Lewis' work on the nature of love divides love...          2002.0   \n",
       "4     \"In The Problem of Pain, C.S. Lewis, one of th...          2002.0   \n",
       "...                                                 ...             ...   \n",
       "5192  On A Train Journey Home To North India After L...          2003.0   \n",
       "5193  This book tells the tale of a man who goes on ...          2002.0   \n",
       "5194  Wisdom to Create a Life of Passion, Purpose, a...          2003.0   \n",
       "5195  This collection of the timeless teachings of o...          1999.0   \n",
       "5196  Since the three volume edition ofHegel's Philo...          1981.0   \n",
       "\n",
       "      average_rating  num_pages  ...  \\\n",
       "0               3.85      247.0  ...   \n",
       "1               3.83      241.0  ...   \n",
       "2               3.93      512.0  ...   \n",
       "3               4.15      170.0  ...   \n",
       "4               4.09      176.0  ...   \n",
       "...              ...        ...  ...   \n",
       "5192            2.93      324.0  ...   \n",
       "5193            3.70      175.0  ...   \n",
       "5194            3.82      198.0  ...   \n",
       "5195            4.51      531.0  ...   \n",
       "5196            0.00      210.0  ...   \n",
       "\n",
       "                                     title_and_subtitle  \\\n",
       "0                                                Gilead   \n",
       "1                                 Spider's Web: A Novel   \n",
       "2                                        Rage of angels   \n",
       "3                                        The Four Loves   \n",
       "4                                   The Problem of Pain   \n",
       "...                                                 ...   \n",
       "5192                                  Mistaken Identity   \n",
       "5193                                Journey to the East   \n",
       "5194  The Monk Who Sold His Ferrari: A Fable About F...   \n",
       "5195     I Am that: Talks with Sri Nisargadatta Maharaj   \n",
       "5196                           The Berlin Phenomenology   \n",
       "\n",
       "                                     tagged_description simple_category  \\\n",
       "0     9780002005883:A NOVEL THAT READERS and critics...         Fiction   \n",
       "1     9780002261982:A new 'Christie for Christmas' -...         Fiction   \n",
       "2     9780006178736:A memorable, mesmerizing heroine...         Fiction   \n",
       "3     9780006280897:Lewis' work on the nature of lov...      Nonfiction   \n",
       "4     9780006280934:\"In The Problem of Pain, C.S. Le...      Nonfiction   \n",
       "...                                                 ...             ...   \n",
       "5192  9788172235222:On A Train Journey Home To North...         Fiction   \n",
       "5193  9788173031014:This book tells the tale of a ma...      Nonfiction   \n",
       "5194  9788179921623:Wisdom to Create a Life of Passi...         Fiction   \n",
       "5195  9788185300535:This collection of the timeless ...      Nonfiction   \n",
       "5196  9789027712059:Since the three volume edition o...      Nonfiction   \n",
       "\n",
       "         anger   disgust      fear       joy   neutral   sadness  surprise  \n",
       "0     0.064134  0.273592  0.928168  0.932797  0.646217  0.967157  0.729603  \n",
       "1     0.612619  0.348285  0.942528  0.704421  0.887940  0.111690  0.252545  \n",
       "2     0.064134  0.104007  0.972321  0.767236  0.549477  0.111690  0.078765  \n",
       "3     0.351483  0.150723  0.360707  0.251881  0.732685  0.111690  0.078765  \n",
       "4     0.081412  0.184495  0.095043  0.040564  0.884390  0.475881  0.078765  \n",
       "...        ...       ...       ...       ...       ...       ...       ...  \n",
       "5192  0.148209  0.030643  0.919165  0.255169  0.853722  0.980877  0.030656  \n",
       "5193  0.064134  0.114383  0.051363  0.400263  0.883198  0.111690  0.227764  \n",
       "5194  0.009997  0.009929  0.339218  0.947779  0.375755  0.066685  0.057625  \n",
       "5195  0.064134  0.104007  0.459270  0.759456  0.951104  0.368111  0.078765  \n",
       "5196  0.064134  0.104007  0.051363  0.958549  0.915193  0.111690  0.078765  \n",
       "\n",
       "[5197 rows x 21 columns]"
      ],
      "text/html": [
       "<div>\n",
       "<style scoped>\n",
       "    .dataframe tbody tr th:only-of-type {\n",
       "        vertical-align: middle;\n",
       "    }\n",
       "\n",
       "    .dataframe tbody tr th {\n",
       "        vertical-align: top;\n",
       "    }\n",
       "\n",
       "    .dataframe thead th {\n",
       "        text-align: right;\n",
       "    }\n",
       "</style>\n",
       "<table border=\"1\" class=\"dataframe\">\n",
       "  <thead>\n",
       "    <tr style=\"text-align: right;\">\n",
       "      <th></th>\n",
       "      <th>isbn13</th>\n",
       "      <th>isbn10</th>\n",
       "      <th>title</th>\n",
       "      <th>authors</th>\n",
       "      <th>categories</th>\n",
       "      <th>thumbnail</th>\n",
       "      <th>description</th>\n",
       "      <th>published_year</th>\n",
       "      <th>average_rating</th>\n",
       "      <th>num_pages</th>\n",
       "      <th>...</th>\n",
       "      <th>title_and_subtitle</th>\n",
       "      <th>tagged_description</th>\n",
       "      <th>simple_category</th>\n",
       "      <th>anger</th>\n",
       "      <th>disgust</th>\n",
       "      <th>fear</th>\n",
       "      <th>joy</th>\n",
       "      <th>neutral</th>\n",
       "      <th>sadness</th>\n",
       "      <th>surprise</th>\n",
       "    </tr>\n",
       "  </thead>\n",
       "  <tbody>\n",
       "    <tr>\n",
       "      <th>0</th>\n",
       "      <td>9780002005883</td>\n",
       "      <td>0002005883</td>\n",
       "      <td>Gilead</td>\n",
       "      <td>Marilynne Robinson</td>\n",
       "      <td>Fiction</td>\n",
       "      <td>http://books.google.com/books/content?id=KQZCP...</td>\n",
       "      <td>A NOVEL THAT READERS and critics have been eag...</td>\n",
       "      <td>2004.0</td>\n",
       "      <td>3.85</td>\n",
       "      <td>247.0</td>\n",
       "      <td>...</td>\n",
       "      <td>Gilead</td>\n",
       "      <td>9780002005883:A NOVEL THAT READERS and critics...</td>\n",
       "      <td>Fiction</td>\n",
       "      <td>0.064134</td>\n",
       "      <td>0.273592</td>\n",
       "      <td>0.928168</td>\n",
       "      <td>0.932797</td>\n",
       "      <td>0.646217</td>\n",
       "      <td>0.967157</td>\n",
       "      <td>0.729603</td>\n",
       "    </tr>\n",
       "    <tr>\n",
       "      <th>1</th>\n",
       "      <td>9780002261982</td>\n",
       "      <td>0002261987</td>\n",
       "      <td>Spider's Web</td>\n",
       "      <td>Charles Osborne;Agatha Christie</td>\n",
       "      <td>Detective and mystery stories</td>\n",
       "      <td>http://books.google.com/books/content?id=gA5GP...</td>\n",
       "      <td>A new 'Christie for Christmas' -- a full-lengt...</td>\n",
       "      <td>2000.0</td>\n",
       "      <td>3.83</td>\n",
       "      <td>241.0</td>\n",
       "      <td>...</td>\n",
       "      <td>Spider's Web: A Novel</td>\n",
       "      <td>9780002261982:A new 'Christie for Christmas' -...</td>\n",
       "      <td>Fiction</td>\n",
       "      <td>0.612619</td>\n",
       "      <td>0.348285</td>\n",
       "      <td>0.942528</td>\n",
       "      <td>0.704421</td>\n",
       "      <td>0.887940</td>\n",
       "      <td>0.111690</td>\n",
       "      <td>0.252545</td>\n",
       "    </tr>\n",
       "    <tr>\n",
       "      <th>2</th>\n",
       "      <td>9780006178736</td>\n",
       "      <td>0006178731</td>\n",
       "      <td>Rage of angels</td>\n",
       "      <td>Sidney Sheldon</td>\n",
       "      <td>Fiction</td>\n",
       "      <td>http://books.google.com/books/content?id=FKo2T...</td>\n",
       "      <td>A memorable, mesmerizing heroine Jennifer -- b...</td>\n",
       "      <td>1993.0</td>\n",
       "      <td>3.93</td>\n",
       "      <td>512.0</td>\n",
       "      <td>...</td>\n",
       "      <td>Rage of angels</td>\n",
       "      <td>9780006178736:A memorable, mesmerizing heroine...</td>\n",
       "      <td>Fiction</td>\n",
       "      <td>0.064134</td>\n",
       "      <td>0.104007</td>\n",
       "      <td>0.972321</td>\n",
       "      <td>0.767236</td>\n",
       "      <td>0.549477</td>\n",
       "      <td>0.111690</td>\n",
       "      <td>0.078765</td>\n",
       "    </tr>\n",
       "    <tr>\n",
       "      <th>3</th>\n",
       "      <td>9780006280897</td>\n",
       "      <td>0006280897</td>\n",
       "      <td>The Four Loves</td>\n",
       "      <td>Clive Staples Lewis</td>\n",
       "      <td>Christian life</td>\n",
       "      <td>http://books.google.com/books/content?id=XhQ5X...</td>\n",
       "      <td>Lewis' work on the nature of love divides love...</td>\n",
       "      <td>2002.0</td>\n",
       "      <td>4.15</td>\n",
       "      <td>170.0</td>\n",
       "      <td>...</td>\n",
       "      <td>The Four Loves</td>\n",
       "      <td>9780006280897:Lewis' work on the nature of lov...</td>\n",
       "      <td>Nonfiction</td>\n",
       "      <td>0.351483</td>\n",
       "      <td>0.150723</td>\n",
       "      <td>0.360707</td>\n",
       "      <td>0.251881</td>\n",
       "      <td>0.732685</td>\n",
       "      <td>0.111690</td>\n",
       "      <td>0.078765</td>\n",
       "    </tr>\n",
       "    <tr>\n",
       "      <th>4</th>\n",
       "      <td>9780006280934</td>\n",
       "      <td>0006280935</td>\n",
       "      <td>The Problem of Pain</td>\n",
       "      <td>Clive Staples Lewis</td>\n",
       "      <td>Christian life</td>\n",
       "      <td>http://books.google.com/books/content?id=Kk-uV...</td>\n",
       "      <td>\"In The Problem of Pain, C.S. Lewis, one of th...</td>\n",
       "      <td>2002.0</td>\n",
       "      <td>4.09</td>\n",
       "      <td>176.0</td>\n",
       "      <td>...</td>\n",
       "      <td>The Problem of Pain</td>\n",
       "      <td>9780006280934:\"In The Problem of Pain, C.S. Le...</td>\n",
       "      <td>Nonfiction</td>\n",
       "      <td>0.081412</td>\n",
       "      <td>0.184495</td>\n",
       "      <td>0.095043</td>\n",
       "      <td>0.040564</td>\n",
       "      <td>0.884390</td>\n",
       "      <td>0.475881</td>\n",
       "      <td>0.078765</td>\n",
       "    </tr>\n",
       "    <tr>\n",
       "      <th>...</th>\n",
       "      <td>...</td>\n",
       "      <td>...</td>\n",
       "      <td>...</td>\n",
       "      <td>...</td>\n",
       "      <td>...</td>\n",
       "      <td>...</td>\n",
       "      <td>...</td>\n",
       "      <td>...</td>\n",
       "      <td>...</td>\n",
       "      <td>...</td>\n",
       "      <td>...</td>\n",
       "      <td>...</td>\n",
       "      <td>...</td>\n",
       "      <td>...</td>\n",
       "      <td>...</td>\n",
       "      <td>...</td>\n",
       "      <td>...</td>\n",
       "      <td>...</td>\n",
       "      <td>...</td>\n",
       "      <td>...</td>\n",
       "      <td>...</td>\n",
       "    </tr>\n",
       "    <tr>\n",
       "      <th>5192</th>\n",
       "      <td>9788172235222</td>\n",
       "      <td>8172235224</td>\n",
       "      <td>Mistaken Identity</td>\n",
       "      <td>Nayantara Sahgal</td>\n",
       "      <td>Indic fiction (English)</td>\n",
       "      <td>http://books.google.com/books/content?id=q-tKP...</td>\n",
       "      <td>On A Train Journey Home To North India After L...</td>\n",
       "      <td>2003.0</td>\n",
       "      <td>2.93</td>\n",
       "      <td>324.0</td>\n",
       "      <td>...</td>\n",
       "      <td>Mistaken Identity</td>\n",
       "      <td>9788172235222:On A Train Journey Home To North...</td>\n",
       "      <td>Fiction</td>\n",
       "      <td>0.148209</td>\n",
       "      <td>0.030643</td>\n",
       "      <td>0.919165</td>\n",
       "      <td>0.255169</td>\n",
       "      <td>0.853722</td>\n",
       "      <td>0.980877</td>\n",
       "      <td>0.030656</td>\n",
       "    </tr>\n",
       "    <tr>\n",
       "      <th>5193</th>\n",
       "      <td>9788173031014</td>\n",
       "      <td>8173031010</td>\n",
       "      <td>Journey to the East</td>\n",
       "      <td>Hermann Hesse</td>\n",
       "      <td>Adventure stories</td>\n",
       "      <td>http://books.google.com/books/content?id=rq6JP...</td>\n",
       "      <td>This book tells the tale of a man who goes on ...</td>\n",
       "      <td>2002.0</td>\n",
       "      <td>3.70</td>\n",
       "      <td>175.0</td>\n",
       "      <td>...</td>\n",
       "      <td>Journey to the East</td>\n",
       "      <td>9788173031014:This book tells the tale of a ma...</td>\n",
       "      <td>Nonfiction</td>\n",
       "      <td>0.064134</td>\n",
       "      <td>0.114383</td>\n",
       "      <td>0.051363</td>\n",
       "      <td>0.400263</td>\n",
       "      <td>0.883198</td>\n",
       "      <td>0.111690</td>\n",
       "      <td>0.227764</td>\n",
       "    </tr>\n",
       "    <tr>\n",
       "      <th>5194</th>\n",
       "      <td>9788179921623</td>\n",
       "      <td>817992162X</td>\n",
       "      <td>The Monk Who Sold His Ferrari: A Fable About F...</td>\n",
       "      <td>Robin Sharma</td>\n",
       "      <td>Health &amp; Fitness</td>\n",
       "      <td>http://books.google.com/books/content?id=c_7mf...</td>\n",
       "      <td>Wisdom to Create a Life of Passion, Purpose, a...</td>\n",
       "      <td>2003.0</td>\n",
       "      <td>3.82</td>\n",
       "      <td>198.0</td>\n",
       "      <td>...</td>\n",
       "      <td>The Monk Who Sold His Ferrari: A Fable About F...</td>\n",
       "      <td>9788179921623:Wisdom to Create a Life of Passi...</td>\n",
       "      <td>Fiction</td>\n",
       "      <td>0.009997</td>\n",
       "      <td>0.009929</td>\n",
       "      <td>0.339218</td>\n",
       "      <td>0.947779</td>\n",
       "      <td>0.375755</td>\n",
       "      <td>0.066685</td>\n",
       "      <td>0.057625</td>\n",
       "    </tr>\n",
       "    <tr>\n",
       "      <th>5195</th>\n",
       "      <td>9788185300535</td>\n",
       "      <td>8185300534</td>\n",
       "      <td>I Am that</td>\n",
       "      <td>Sri Nisargadatta Maharaj;Sudhakar S. Dikshit</td>\n",
       "      <td>Philosophy</td>\n",
       "      <td>http://books.google.com/books/content?id=Fv_JP...</td>\n",
       "      <td>This collection of the timeless teachings of o...</td>\n",
       "      <td>1999.0</td>\n",
       "      <td>4.51</td>\n",
       "      <td>531.0</td>\n",
       "      <td>...</td>\n",
       "      <td>I Am that: Talks with Sri Nisargadatta Maharaj</td>\n",
       "      <td>9788185300535:This collection of the timeless ...</td>\n",
       "      <td>Nonfiction</td>\n",
       "      <td>0.064134</td>\n",
       "      <td>0.104007</td>\n",
       "      <td>0.459270</td>\n",
       "      <td>0.759456</td>\n",
       "      <td>0.951104</td>\n",
       "      <td>0.368111</td>\n",
       "      <td>0.078765</td>\n",
       "    </tr>\n",
       "    <tr>\n",
       "      <th>5196</th>\n",
       "      <td>9789027712059</td>\n",
       "      <td>9027712050</td>\n",
       "      <td>The Berlin Phenomenology</td>\n",
       "      <td>Georg Wilhelm Friedrich Hegel</td>\n",
       "      <td>History</td>\n",
       "      <td>http://books.google.com/books/content?id=Vy7Sk...</td>\n",
       "      <td>Since the three volume edition ofHegel's Philo...</td>\n",
       "      <td>1981.0</td>\n",
       "      <td>0.00</td>\n",
       "      <td>210.0</td>\n",
       "      <td>...</td>\n",
       "      <td>The Berlin Phenomenology</td>\n",
       "      <td>9789027712059:Since the three volume edition o...</td>\n",
       "      <td>Nonfiction</td>\n",
       "      <td>0.064134</td>\n",
       "      <td>0.104007</td>\n",
       "      <td>0.051363</td>\n",
       "      <td>0.958549</td>\n",
       "      <td>0.915193</td>\n",
       "      <td>0.111690</td>\n",
       "      <td>0.078765</td>\n",
       "    </tr>\n",
       "  </tbody>\n",
       "</table>\n",
       "<p>5197 rows × 21 columns</p>\n",
       "</div>"
      ]
     },
     "execution_count": 58,
     "metadata": {},
     "output_type": "execute_result"
    }
   ],
   "execution_count": 58
  },
  {
   "metadata": {
    "ExecuteTime": {
     "end_time": "2025-05-27T10:15:36.788205Z",
     "start_time": "2025-05-27T10:15:36.034227Z"
    }
   },
   "cell_type": "code",
   "source": "books.to_csv(\"books_with_emotions.csv\", index=False)",
   "id": "d817fddff6d83512",
   "outputs": [],
   "execution_count": 59
  },
  {
   "metadata": {},
   "cell_type": "code",
   "outputs": [],
   "execution_count": null,
   "source": "",
   "id": "bce63743bfa8cb81"
  }
 ],
 "metadata": {
  "kernelspec": {
   "display_name": "Python 3",
   "language": "python",
   "name": "python3"
  },
  "language_info": {
   "codemirror_mode": {
    "name": "ipython",
    "version": 2
   },
   "file_extension": ".py",
   "mimetype": "text/x-python",
   "name": "python",
   "nbconvert_exporter": "python",
   "pygments_lexer": "ipython2",
   "version": "2.7.6"
  }
 },
 "nbformat": 4,
 "nbformat_minor": 5
}
